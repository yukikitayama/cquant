{
 "cells": [
  {
   "cell_type": "markdown",
   "metadata": {},
   "source": [
    "# Energy Analyst Programming Exercise - Analytical Tasks\n",
    "Name: Yuki Kitayama <br>\n",
    "Email: yk2797@columbia.edu <br>\n",
    "Date: 4/25/2020"
   ]
  },
  {
   "cell_type": "markdown",
   "metadata": {},
   "source": [
    "### Setup"
   ]
  },
  {
   "cell_type": "code",
   "execution_count": 1,
   "metadata": {},
   "outputs": [],
   "source": [
    "import pandas as pd\n",
    "import numpy as np\n",
    "import matplotlib.pyplot as plt\n",
    "import seaborn as sns"
   ]
  },
  {
   "cell_type": "markdown",
   "metadata": {},
   "source": [
    "### Hyperparameter\n",
    "please adjust path to read csv in your environment"
   ]
  },
  {
   "cell_type": "code",
   "execution_count": 362,
   "metadata": {},
   "outputs": [],
   "source": [
    "PATH_CSV_01 = 'historicalPriceData_ERCOT_DA_Prices_2016.csv'\n",
    "PATH_CSV_02 = 'historicalPriceData_ERCOT_DA_Prices_2017.csv'\n",
    "PATH_CSV_03 = 'historicalPriceData_ERCOT_DA_Prices_2018.csv'\n",
    "PATH_CSV_04 = 'historicalPriceData_ERCOT_DA_Prices_2019.csv'\n",
    "PATH_CSV_05 = 'AveragePriceByMonth.csv'\n",
    "PATH_CSV_06 = 'HourlyVolatilityByYear.csv'\n",
    "PATH_CSV_07 = 'MaxVolatilityByYear.csv'\n",
    "SUBDIR = 'formattedSpotHistory/'\n",
    "SUBDIR_02 = 'hourlyShapeProfiles/'\n",
    "SAVEFIG_01 = 'SettlementHubAveragePriceByMonth.png'\n",
    "SAVEFIG_02 = 'LoadZoneAveragePriceByMonth.png'\n",
    "SAVEFIG_03 = 'HubPriceVolatilityByYear.png'"
   ]
  },
  {
   "cell_type": "markdown",
   "metadata": {},
   "source": [
    "### Read data"
   ]
  },
  {
   "cell_type": "code",
   "execution_count": 7,
   "metadata": {},
   "outputs": [],
   "source": [
    "df_tmp_01 = pd.read_csv(PATH_CSV_01)\n",
    "df_tmp_02 = pd.read_csv(PATH_CSV_02)\n",
    "df_tmp_03 = pd.read_csv(PATH_CSV_03)\n",
    "df_tmp_04 = pd.read_csv(PATH_CSV_04)"
   ]
  },
  {
   "cell_type": "code",
   "execution_count": 123,
   "metadata": {},
   "outputs": [
    {
     "data": {
      "text/html": [
       "<div>\n",
       "<style scoped>\n",
       "    .dataframe tbody tr th:only-of-type {\n",
       "        vertical-align: middle;\n",
       "    }\n",
       "\n",
       "    .dataframe tbody tr th {\n",
       "        vertical-align: top;\n",
       "    }\n",
       "\n",
       "    .dataframe thead th {\n",
       "        text-align: right;\n",
       "    }\n",
       "</style>\n",
       "<table border=\"1\" class=\"dataframe\">\n",
       "  <thead>\n",
       "    <tr style=\"text-align: right;\">\n",
       "      <th></th>\n",
       "      <th>Date</th>\n",
       "      <th>SettlementPoint</th>\n",
       "      <th>Price</th>\n",
       "      <th>settlement_type</th>\n",
       "    </tr>\n",
       "  </thead>\n",
       "  <tbody>\n",
       "    <tr>\n",
       "      <th>0</th>\n",
       "      <td>2016-01-01 00:00:00</td>\n",
       "      <td>HB_BUSAVG</td>\n",
       "      <td>18.42</td>\n",
       "      <td>HB</td>\n",
       "    </tr>\n",
       "    <tr>\n",
       "      <th>1</th>\n",
       "      <td>2016-01-01 00:00:00</td>\n",
       "      <td>HB_HOUSTON</td>\n",
       "      <td>18.42</td>\n",
       "      <td>HB</td>\n",
       "    </tr>\n",
       "    <tr>\n",
       "      <th>2</th>\n",
       "      <td>2016-01-01 00:00:00</td>\n",
       "      <td>HB_HUBAVG</td>\n",
       "      <td>18.42</td>\n",
       "      <td>HB</td>\n",
       "    </tr>\n",
       "    <tr>\n",
       "      <th>3</th>\n",
       "      <td>2016-01-01 00:00:00</td>\n",
       "      <td>HB_NORTH</td>\n",
       "      <td>18.43</td>\n",
       "      <td>HB</td>\n",
       "    </tr>\n",
       "    <tr>\n",
       "      <th>4</th>\n",
       "      <td>2016-01-01 00:00:00</td>\n",
       "      <td>HB_SOUTH</td>\n",
       "      <td>18.38</td>\n",
       "      <td>HB</td>\n",
       "    </tr>\n",
       "  </tbody>\n",
       "</table>\n",
       "</div>"
      ],
      "text/plain": [
       "                  Date SettlementPoint  Price settlement_type\n",
       "0  2016-01-01 00:00:00       HB_BUSAVG  18.42              HB\n",
       "1  2016-01-01 00:00:00      HB_HOUSTON  18.42              HB\n",
       "2  2016-01-01 00:00:00       HB_HUBAVG  18.42              HB\n",
       "3  2016-01-01 00:00:00        HB_NORTH  18.43              HB\n",
       "4  2016-01-01 00:00:00        HB_SOUTH  18.38              HB"
      ]
     },
     "execution_count": 123,
     "metadata": {},
     "output_type": "execute_result"
    }
   ],
   "source": [
    "df_tmp_01.head()"
   ]
  },
  {
   "cell_type": "code",
   "execution_count": 124,
   "metadata": {},
   "outputs": [
    {
     "data": {
      "text/html": [
       "<div>\n",
       "<style scoped>\n",
       "    .dataframe tbody tr th:only-of-type {\n",
       "        vertical-align: middle;\n",
       "    }\n",
       "\n",
       "    .dataframe tbody tr th {\n",
       "        vertical-align: top;\n",
       "    }\n",
       "\n",
       "    .dataframe thead th {\n",
       "        text-align: right;\n",
       "    }\n",
       "</style>\n",
       "<table border=\"1\" class=\"dataframe\">\n",
       "  <thead>\n",
       "    <tr style=\"text-align: right;\">\n",
       "      <th></th>\n",
       "      <th>Date</th>\n",
       "      <th>SettlementPoint</th>\n",
       "      <th>Price</th>\n",
       "      <th>settlement_type</th>\n",
       "    </tr>\n",
       "  </thead>\n",
       "  <tbody>\n",
       "    <tr>\n",
       "      <th>122957</th>\n",
       "      <td>2016-12-31 23:00:00</td>\n",
       "      <td>LZ_LCRA</td>\n",
       "      <td>24.97</td>\n",
       "      <td>LZ</td>\n",
       "    </tr>\n",
       "    <tr>\n",
       "      <th>122958</th>\n",
       "      <td>2016-12-31 23:00:00</td>\n",
       "      <td>LZ_NORTH</td>\n",
       "      <td>24.97</td>\n",
       "      <td>LZ</td>\n",
       "    </tr>\n",
       "    <tr>\n",
       "      <th>122959</th>\n",
       "      <td>2016-12-31 23:00:00</td>\n",
       "      <td>LZ_RAYBN</td>\n",
       "      <td>24.97</td>\n",
       "      <td>LZ</td>\n",
       "    </tr>\n",
       "    <tr>\n",
       "      <th>122960</th>\n",
       "      <td>2016-12-31 23:00:00</td>\n",
       "      <td>LZ_SOUTH</td>\n",
       "      <td>24.97</td>\n",
       "      <td>LZ</td>\n",
       "    </tr>\n",
       "    <tr>\n",
       "      <th>122961</th>\n",
       "      <td>2016-12-31 23:00:00</td>\n",
       "      <td>LZ_WEST</td>\n",
       "      <td>24.97</td>\n",
       "      <td>LZ</td>\n",
       "    </tr>\n",
       "  </tbody>\n",
       "</table>\n",
       "</div>"
      ],
      "text/plain": [
       "                       Date SettlementPoint  Price settlement_type\n",
       "122957  2016-12-31 23:00:00         LZ_LCRA  24.97              LZ\n",
       "122958  2016-12-31 23:00:00        LZ_NORTH  24.97              LZ\n",
       "122959  2016-12-31 23:00:00        LZ_RAYBN  24.97              LZ\n",
       "122960  2016-12-31 23:00:00        LZ_SOUTH  24.97              LZ\n",
       "122961  2016-12-31 23:00:00         LZ_WEST  24.97              LZ"
      ]
     },
     "execution_count": 124,
     "metadata": {},
     "output_type": "execute_result"
    }
   ],
   "source": [
    "df_tmp_01.tail()"
   ]
  },
  {
   "cell_type": "markdown",
   "metadata": {},
   "source": [
    "### Check data"
   ]
  },
  {
   "cell_type": "code",
   "execution_count": 12,
   "metadata": {},
   "outputs": [
    {
     "name": "stdout",
     "output_type": "stream",
     "text": [
      "(122962, 3)\n",
      "(122626, 3)\n",
      "(122626, 3)\n",
      "(129106, 3)\n",
      "Index(['Date', 'SettlementPoint', 'Price'], dtype='object')\n",
      "Index(['Date', 'SettlementPoint', 'Price'], dtype='object')\n",
      "Index(['Date', 'SettlementPoint', 'Price'], dtype='object')\n",
      "Index(['Date', 'SettlementPoint', 'Price'], dtype='object')\n",
      "2016\n",
      "Date               0\n",
      "SettlementPoint    0\n",
      "Price              0\n",
      "dtype: int64\n",
      "2017\n",
      "Date               0\n",
      "SettlementPoint    0\n",
      "Price              0\n",
      "dtype: int64\n",
      "2018\n",
      "Date               0\n",
      "SettlementPoint    0\n",
      "Price              0\n",
      "dtype: int64\n",
      "2019\n",
      "Date               0\n",
      "SettlementPoint    0\n",
      "Price              0\n",
      "dtype: int64\n"
     ]
    }
   ],
   "source": [
    "print(df_tmp_01.shape)\n",
    "print(df_tmp_02.shape)\n",
    "print(df_tmp_03.shape)\n",
    "print(df_tmp_04.shape)\n",
    "print(df_tmp_01.columns)\n",
    "print(df_tmp_02.columns)\n",
    "print(df_tmp_03.columns)\n",
    "print(df_tmp_04.columns)\n",
    "print(\"2016\")\n",
    "print(df_tmp_01.isna().sum())\n",
    "print(\"2017\")\n",
    "print(df_tmp_01.isna().sum())\n",
    "print(\"2018\")\n",
    "print(df_tmp_01.isna().sum())\n",
    "print(\"2019\")\n",
    "print(df_tmp_01.isna().sum())"
   ]
  },
  {
   "cell_type": "markdown",
   "metadata": {},
   "source": [
    "## Task 1\n",
    "Combine them."
   ]
  },
  {
   "cell_type": "code",
   "execution_count": 31,
   "metadata": {},
   "outputs": [],
   "source": [
    "df_price = df_tmp_01.append([df_tmp_02, df_tmp_03, df_tmp_04])"
   ]
  },
  {
   "cell_type": "code",
   "execution_count": 16,
   "metadata": {},
   "outputs": [
    {
     "data": {
      "text/plain": [
       "(497320, 3)"
      ]
     },
     "execution_count": 16,
     "metadata": {},
     "output_type": "execute_result"
    }
   ],
   "source": [
    "df_price.shape"
   ]
  },
  {
   "cell_type": "code",
   "execution_count": 17,
   "metadata": {},
   "outputs": [
    {
     "data": {
      "text/html": [
       "<div>\n",
       "<style scoped>\n",
       "    .dataframe tbody tr th:only-of-type {\n",
       "        vertical-align: middle;\n",
       "    }\n",
       "\n",
       "    .dataframe tbody tr th {\n",
       "        vertical-align: top;\n",
       "    }\n",
       "\n",
       "    .dataframe thead th {\n",
       "        text-align: right;\n",
       "    }\n",
       "</style>\n",
       "<table border=\"1\" class=\"dataframe\">\n",
       "  <thead>\n",
       "    <tr style=\"text-align: right;\">\n",
       "      <th></th>\n",
       "      <th>Date</th>\n",
       "      <th>SettlementPoint</th>\n",
       "      <th>Price</th>\n",
       "    </tr>\n",
       "  </thead>\n",
       "  <tbody>\n",
       "    <tr>\n",
       "      <th>0</th>\n",
       "      <td>2016-01-01 00:00:00</td>\n",
       "      <td>HB_BUSAVG</td>\n",
       "      <td>18.42</td>\n",
       "    </tr>\n",
       "    <tr>\n",
       "      <th>1</th>\n",
       "      <td>2016-01-01 00:00:00</td>\n",
       "      <td>HB_HOUSTON</td>\n",
       "      <td>18.42</td>\n",
       "    </tr>\n",
       "    <tr>\n",
       "      <th>2</th>\n",
       "      <td>2016-01-01 00:00:00</td>\n",
       "      <td>HB_HUBAVG</td>\n",
       "      <td>18.42</td>\n",
       "    </tr>\n",
       "    <tr>\n",
       "      <th>3</th>\n",
       "      <td>2016-01-01 00:00:00</td>\n",
       "      <td>HB_NORTH</td>\n",
       "      <td>18.43</td>\n",
       "    </tr>\n",
       "    <tr>\n",
       "      <th>4</th>\n",
       "      <td>2016-01-01 00:00:00</td>\n",
       "      <td>HB_SOUTH</td>\n",
       "      <td>18.38</td>\n",
       "    </tr>\n",
       "  </tbody>\n",
       "</table>\n",
       "</div>"
      ],
      "text/plain": [
       "                  Date SettlementPoint  Price\n",
       "0  2016-01-01 00:00:00       HB_BUSAVG  18.42\n",
       "1  2016-01-01 00:00:00      HB_HOUSTON  18.42\n",
       "2  2016-01-01 00:00:00       HB_HUBAVG  18.42\n",
       "3  2016-01-01 00:00:00        HB_NORTH  18.43\n",
       "4  2016-01-01 00:00:00        HB_SOUTH  18.38"
      ]
     },
     "execution_count": 17,
     "metadata": {},
     "output_type": "execute_result"
    }
   ],
   "source": [
    "df_price.head()"
   ]
  },
  {
   "cell_type": "code",
   "execution_count": 18,
   "metadata": {},
   "outputs": [
    {
     "data": {
      "text/html": [
       "<div>\n",
       "<style scoped>\n",
       "    .dataframe tbody tr th:only-of-type {\n",
       "        vertical-align: middle;\n",
       "    }\n",
       "\n",
       "    .dataframe tbody tr th {\n",
       "        vertical-align: top;\n",
       "    }\n",
       "\n",
       "    .dataframe thead th {\n",
       "        text-align: right;\n",
       "    }\n",
       "</style>\n",
       "<table border=\"1\" class=\"dataframe\">\n",
       "  <thead>\n",
       "    <tr style=\"text-align: right;\">\n",
       "      <th></th>\n",
       "      <th>Date</th>\n",
       "      <th>SettlementPoint</th>\n",
       "      <th>Price</th>\n",
       "    </tr>\n",
       "  </thead>\n",
       "  <tbody>\n",
       "    <tr>\n",
       "      <th>129101</th>\n",
       "      <td>2019-12-31 23:00:00</td>\n",
       "      <td>LZ_LCRA</td>\n",
       "      <td>14.53</td>\n",
       "    </tr>\n",
       "    <tr>\n",
       "      <th>129102</th>\n",
       "      <td>2019-12-31 23:00:00</td>\n",
       "      <td>LZ_NORTH</td>\n",
       "      <td>14.48</td>\n",
       "    </tr>\n",
       "    <tr>\n",
       "      <th>129103</th>\n",
       "      <td>2019-12-31 23:00:00</td>\n",
       "      <td>LZ_RAYBN</td>\n",
       "      <td>14.48</td>\n",
       "    </tr>\n",
       "    <tr>\n",
       "      <th>129104</th>\n",
       "      <td>2019-12-31 23:00:00</td>\n",
       "      <td>LZ_SOUTH</td>\n",
       "      <td>14.70</td>\n",
       "    </tr>\n",
       "    <tr>\n",
       "      <th>129105</th>\n",
       "      <td>2019-12-31 23:00:00</td>\n",
       "      <td>LZ_WEST</td>\n",
       "      <td>16.78</td>\n",
       "    </tr>\n",
       "  </tbody>\n",
       "</table>\n",
       "</div>"
      ],
      "text/plain": [
       "                       Date SettlementPoint  Price\n",
       "129101  2019-12-31 23:00:00         LZ_LCRA  14.53\n",
       "129102  2019-12-31 23:00:00        LZ_NORTH  14.48\n",
       "129103  2019-12-31 23:00:00        LZ_RAYBN  14.48\n",
       "129104  2019-12-31 23:00:00        LZ_SOUTH  14.70\n",
       "129105  2019-12-31 23:00:00         LZ_WEST  16.78"
      ]
     },
     "execution_count": 18,
     "metadata": {},
     "output_type": "execute_result"
    }
   ],
   "source": [
    "df_price.tail()"
   ]
  },
  {
   "cell_type": "code",
   "execution_count": 40,
   "metadata": {},
   "outputs": [
    {
     "data": {
      "text/plain": [
       "array(['HB_BUSAVG', 'HB_HOUSTON', 'HB_HUBAVG', 'HB_NORTH', 'HB_SOUTH',\n",
       "       'HB_WEST', 'LZ_AEN', 'LZ_CPS', 'LZ_HOUSTON', 'LZ_LCRA', 'LZ_NORTH',\n",
       "       'LZ_RAYBN', 'LZ_SOUTH', 'LZ_WEST', 'HB_PAN'], dtype=object)"
      ]
     },
     "execution_count": 40,
     "metadata": {},
     "output_type": "execute_result"
    }
   ],
   "source": [
    "df_price['SettlementPoint'].unique()"
   ]
  },
  {
   "cell_type": "code",
   "execution_count": 41,
   "metadata": {},
   "outputs": [
    {
     "data": {
      "text/plain": [
       "15"
      ]
     },
     "execution_count": 41,
     "metadata": {},
     "output_type": "execute_result"
    }
   ],
   "source": [
    "len(df_price['SettlementPoint'].unique())"
   ]
  },
  {
   "cell_type": "markdown",
   "metadata": {},
   "source": [
    "## Task 2"
   ]
  },
  {
   "cell_type": "code",
   "execution_count": 35,
   "metadata": {},
   "outputs": [],
   "source": [
    "# set index\n",
    "df_price['index'] = pd.to_datetime(df_price['Date'])\n",
    "df_price = df_price.set_index('index')\n",
    "\n",
    "# make variables\n",
    "df_price['year'] = df_price.index.year\n",
    "df_price['month'] = df_price.index.month"
   ]
  },
  {
   "cell_type": "code",
   "execution_count": 49,
   "metadata": {},
   "outputs": [],
   "source": [
    "average_price = df_price.groupby(['year', 'month', 'SettlementPoint']).mean()"
   ]
  },
  {
   "cell_type": "code",
   "execution_count": 42,
   "metadata": {},
   "outputs": [
    {
     "data": {
      "text/plain": [
       "(681, 1)"
      ]
     },
     "execution_count": 42,
     "metadata": {},
     "output_type": "execute_result"
    }
   ],
   "source": [
    "average_price.shape"
   ]
  },
  {
   "cell_type": "code",
   "execution_count": 43,
   "metadata": {},
   "outputs": [
    {
     "data": {
      "text/plain": [
       "720"
      ]
     },
     "execution_count": 43,
     "metadata": {},
     "output_type": "execute_result"
    }
   ],
   "source": [
    "12 * 4 * 15"
   ]
  },
  {
   "cell_type": "code",
   "execution_count": 38,
   "metadata": {},
   "outputs": [
    {
     "data": {
      "text/html": [
       "<div>\n",
       "<style scoped>\n",
       "    .dataframe tbody tr th:only-of-type {\n",
       "        vertical-align: middle;\n",
       "    }\n",
       "\n",
       "    .dataframe tbody tr th {\n",
       "        vertical-align: top;\n",
       "    }\n",
       "\n",
       "    .dataframe thead th {\n",
       "        text-align: right;\n",
       "    }\n",
       "</style>\n",
       "<table border=\"1\" class=\"dataframe\">\n",
       "  <thead>\n",
       "    <tr style=\"text-align: right;\">\n",
       "      <th></th>\n",
       "      <th></th>\n",
       "      <th></th>\n",
       "      <th>Price</th>\n",
       "    </tr>\n",
       "    <tr>\n",
       "      <th>year</th>\n",
       "      <th>month</th>\n",
       "      <th>SettlementPoint</th>\n",
       "      <th></th>\n",
       "    </tr>\n",
       "  </thead>\n",
       "  <tbody>\n",
       "    <tr>\n",
       "      <th rowspan=\"5\" valign=\"top\">2016</th>\n",
       "      <th rowspan=\"5\" valign=\"top\">1</th>\n",
       "      <th>HB_BUSAVG</th>\n",
       "      <td>19.209301</td>\n",
       "    </tr>\n",
       "    <tr>\n",
       "      <th>HB_HOUSTON</th>\n",
       "      <td>19.565726</td>\n",
       "    </tr>\n",
       "    <tr>\n",
       "      <th>HB_HUBAVG</th>\n",
       "      <td>19.258696</td>\n",
       "    </tr>\n",
       "    <tr>\n",
       "      <th>HB_NORTH</th>\n",
       "      <td>19.133306</td>\n",
       "    </tr>\n",
       "    <tr>\n",
       "      <th>HB_SOUTH</th>\n",
       "      <td>19.210054</td>\n",
       "    </tr>\n",
       "  </tbody>\n",
       "</table>\n",
       "</div>"
      ],
      "text/plain": [
       "                                Price\n",
       "year month SettlementPoint           \n",
       "2016 1     HB_BUSAVG        19.209301\n",
       "           HB_HOUSTON       19.565726\n",
       "           HB_HUBAVG        19.258696\n",
       "           HB_NORTH         19.133306\n",
       "           HB_SOUTH         19.210054"
      ]
     },
     "execution_count": 38,
     "metadata": {},
     "output_type": "execute_result"
    }
   ],
   "source": [
    "average_price.head()"
   ]
  },
  {
   "cell_type": "code",
   "execution_count": 39,
   "metadata": {},
   "outputs": [
    {
     "data": {
      "text/html": [
       "<div>\n",
       "<style scoped>\n",
       "    .dataframe tbody tr th:only-of-type {\n",
       "        vertical-align: middle;\n",
       "    }\n",
       "\n",
       "    .dataframe tbody tr th {\n",
       "        vertical-align: top;\n",
       "    }\n",
       "\n",
       "    .dataframe thead th {\n",
       "        text-align: right;\n",
       "    }\n",
       "</style>\n",
       "<table border=\"1\" class=\"dataframe\">\n",
       "  <thead>\n",
       "    <tr style=\"text-align: right;\">\n",
       "      <th></th>\n",
       "      <th></th>\n",
       "      <th></th>\n",
       "      <th>Price</th>\n",
       "    </tr>\n",
       "    <tr>\n",
       "      <th>year</th>\n",
       "      <th>month</th>\n",
       "      <th>SettlementPoint</th>\n",
       "      <th></th>\n",
       "    </tr>\n",
       "  </thead>\n",
       "  <tbody>\n",
       "    <tr>\n",
       "      <th rowspan=\"5\" valign=\"top\">2019</th>\n",
       "      <th rowspan=\"5\" valign=\"top\">12</th>\n",
       "      <th>LZ_LCRA</th>\n",
       "      <td>19.456882</td>\n",
       "    </tr>\n",
       "    <tr>\n",
       "      <th>LZ_NORTH</th>\n",
       "      <td>19.006801</td>\n",
       "    </tr>\n",
       "    <tr>\n",
       "      <th>LZ_RAYBN</th>\n",
       "      <td>19.085067</td>\n",
       "    </tr>\n",
       "    <tr>\n",
       "      <th>LZ_SOUTH</th>\n",
       "      <td>19.786882</td>\n",
       "    </tr>\n",
       "    <tr>\n",
       "      <th>LZ_WEST</th>\n",
       "      <td>39.502594</td>\n",
       "    </tr>\n",
       "  </tbody>\n",
       "</table>\n",
       "</div>"
      ],
      "text/plain": [
       "                                Price\n",
       "year month SettlementPoint           \n",
       "2019 12    LZ_LCRA          19.456882\n",
       "           LZ_NORTH         19.006801\n",
       "           LZ_RAYBN         19.085067\n",
       "           LZ_SOUTH         19.786882\n",
       "           LZ_WEST          39.502594"
      ]
     },
     "execution_count": 39,
     "metadata": {},
     "output_type": "execute_result"
    }
   ],
   "source": [
    "average_price.tail()"
   ]
  },
  {
   "cell_type": "markdown",
   "metadata": {},
   "source": [
    "## Task 3 "
   ]
  },
  {
   "cell_type": "code",
   "execution_count": 50,
   "metadata": {},
   "outputs": [],
   "source": [
    "# organize appropriate columns\n",
    "average_price = average_price.reset_index()\n",
    "average_price = average_price.rename(columns = {'year': 'Year',\n",
    "                                                'month': 'Month',\n",
    "                                                'Price': 'AveragePrice'})\n",
    "average_price = average_price[['SettlementPoint', 'Year', 'Month', 'AveragePrice']]"
   ]
  },
  {
   "cell_type": "code",
   "execution_count": 51,
   "metadata": {},
   "outputs": [
    {
     "data": {
      "text/html": [
       "<div>\n",
       "<style scoped>\n",
       "    .dataframe tbody tr th:only-of-type {\n",
       "        vertical-align: middle;\n",
       "    }\n",
       "\n",
       "    .dataframe tbody tr th {\n",
       "        vertical-align: top;\n",
       "    }\n",
       "\n",
       "    .dataframe thead th {\n",
       "        text-align: right;\n",
       "    }\n",
       "</style>\n",
       "<table border=\"1\" class=\"dataframe\">\n",
       "  <thead>\n",
       "    <tr style=\"text-align: right;\">\n",
       "      <th></th>\n",
       "      <th>SettlementPoint</th>\n",
       "      <th>Year</th>\n",
       "      <th>Month</th>\n",
       "      <th>AveragePrice</th>\n",
       "    </tr>\n",
       "  </thead>\n",
       "  <tbody>\n",
       "    <tr>\n",
       "      <th>0</th>\n",
       "      <td>HB_BUSAVG</td>\n",
       "      <td>2016</td>\n",
       "      <td>1</td>\n",
       "      <td>19.209301</td>\n",
       "    </tr>\n",
       "    <tr>\n",
       "      <th>1</th>\n",
       "      <td>HB_HOUSTON</td>\n",
       "      <td>2016</td>\n",
       "      <td>1</td>\n",
       "      <td>19.565726</td>\n",
       "    </tr>\n",
       "    <tr>\n",
       "      <th>2</th>\n",
       "      <td>HB_HUBAVG</td>\n",
       "      <td>2016</td>\n",
       "      <td>1</td>\n",
       "      <td>19.258696</td>\n",
       "    </tr>\n",
       "    <tr>\n",
       "      <th>3</th>\n",
       "      <td>HB_NORTH</td>\n",
       "      <td>2016</td>\n",
       "      <td>1</td>\n",
       "      <td>19.133306</td>\n",
       "    </tr>\n",
       "    <tr>\n",
       "      <th>4</th>\n",
       "      <td>HB_SOUTH</td>\n",
       "      <td>2016</td>\n",
       "      <td>1</td>\n",
       "      <td>19.210054</td>\n",
       "    </tr>\n",
       "  </tbody>\n",
       "</table>\n",
       "</div>"
      ],
      "text/plain": [
       "  SettlementPoint  Year  Month  AveragePrice\n",
       "0       HB_BUSAVG  2016      1     19.209301\n",
       "1      HB_HOUSTON  2016      1     19.565726\n",
       "2       HB_HUBAVG  2016      1     19.258696\n",
       "3        HB_NORTH  2016      1     19.133306\n",
       "4        HB_SOUTH  2016      1     19.210054"
      ]
     },
     "execution_count": 51,
     "metadata": {},
     "output_type": "execute_result"
    }
   ],
   "source": [
    "average_price.head()"
   ]
  },
  {
   "cell_type": "code",
   "execution_count": 52,
   "metadata": {},
   "outputs": [
    {
     "data": {
      "text/html": [
       "<div>\n",
       "<style scoped>\n",
       "    .dataframe tbody tr th:only-of-type {\n",
       "        vertical-align: middle;\n",
       "    }\n",
       "\n",
       "    .dataframe tbody tr th {\n",
       "        vertical-align: top;\n",
       "    }\n",
       "\n",
       "    .dataframe thead th {\n",
       "        text-align: right;\n",
       "    }\n",
       "</style>\n",
       "<table border=\"1\" class=\"dataframe\">\n",
       "  <thead>\n",
       "    <tr style=\"text-align: right;\">\n",
       "      <th></th>\n",
       "      <th>SettlementPoint</th>\n",
       "      <th>Year</th>\n",
       "      <th>Month</th>\n",
       "      <th>AveragePrice</th>\n",
       "    </tr>\n",
       "  </thead>\n",
       "  <tbody>\n",
       "    <tr>\n",
       "      <th>676</th>\n",
       "      <td>LZ_LCRA</td>\n",
       "      <td>2019</td>\n",
       "      <td>12</td>\n",
       "      <td>19.456882</td>\n",
       "    </tr>\n",
       "    <tr>\n",
       "      <th>677</th>\n",
       "      <td>LZ_NORTH</td>\n",
       "      <td>2019</td>\n",
       "      <td>12</td>\n",
       "      <td>19.006801</td>\n",
       "    </tr>\n",
       "    <tr>\n",
       "      <th>678</th>\n",
       "      <td>LZ_RAYBN</td>\n",
       "      <td>2019</td>\n",
       "      <td>12</td>\n",
       "      <td>19.085067</td>\n",
       "    </tr>\n",
       "    <tr>\n",
       "      <th>679</th>\n",
       "      <td>LZ_SOUTH</td>\n",
       "      <td>2019</td>\n",
       "      <td>12</td>\n",
       "      <td>19.786882</td>\n",
       "    </tr>\n",
       "    <tr>\n",
       "      <th>680</th>\n",
       "      <td>LZ_WEST</td>\n",
       "      <td>2019</td>\n",
       "      <td>12</td>\n",
       "      <td>39.502594</td>\n",
       "    </tr>\n",
       "  </tbody>\n",
       "</table>\n",
       "</div>"
      ],
      "text/plain": [
       "    SettlementPoint  Year  Month  AveragePrice\n",
       "676         LZ_LCRA  2019     12     19.456882\n",
       "677        LZ_NORTH  2019     12     19.006801\n",
       "678        LZ_RAYBN  2019     12     19.085067\n",
       "679        LZ_SOUTH  2019     12     19.786882\n",
       "680         LZ_WEST  2019     12     39.502594"
      ]
     },
     "execution_count": 52,
     "metadata": {},
     "output_type": "execute_result"
    }
   ],
   "source": [
    "average_price.tail()"
   ]
  },
  {
   "cell_type": "code",
   "execution_count": 56,
   "metadata": {},
   "outputs": [],
   "source": [
    "average_price.to_csv(PATH_CSV_05, index = False)"
   ]
  },
  {
   "cell_type": "markdown",
   "metadata": {},
   "source": [
    "## Task 4"
   ]
  },
  {
   "cell_type": "code",
   "execution_count": 146,
   "metadata": {},
   "outputs": [
    {
     "name": "stdout",
     "output_type": "stream",
     "text": [
      "before remove zero and negative (122962, 4)\n",
      "after (122944, 4)\n",
      "before remove load zone (122944, 4)\n",
      "after (52685, 4)\n",
      "['HB_BUSAVG' 'HB_HOUSTON' 'HB_HUBAVG' 'HB_NORTH' 'HB_SOUTH' 'HB_WEST']\n"
     ]
    },
    {
     "data": {
      "text/html": [
       "<div>\n",
       "<style scoped>\n",
       "    .dataframe tbody tr th:only-of-type {\n",
       "        vertical-align: middle;\n",
       "    }\n",
       "\n",
       "    .dataframe tbody tr th {\n",
       "        vertical-align: top;\n",
       "    }\n",
       "\n",
       "    .dataframe thead th {\n",
       "        text-align: right;\n",
       "    }\n",
       "</style>\n",
       "<table border=\"1\" class=\"dataframe\">\n",
       "  <thead>\n",
       "    <tr style=\"text-align: right;\">\n",
       "      <th></th>\n",
       "      <th>SettlementPoint</th>\n",
       "      <th>HourlyVolatility</th>\n",
       "      <th>Year</th>\n",
       "    </tr>\n",
       "  </thead>\n",
       "  <tbody>\n",
       "    <tr>\n",
       "      <th>0</th>\n",
       "      <td>HB_BUSAVG</td>\n",
       "      <td>0.185377</td>\n",
       "      <td>2016</td>\n",
       "    </tr>\n",
       "    <tr>\n",
       "      <th>1</th>\n",
       "      <td>HB_HOUSTON</td>\n",
       "      <td>0.190962</td>\n",
       "      <td>2016</td>\n",
       "    </tr>\n",
       "    <tr>\n",
       "      <th>2</th>\n",
       "      <td>HB_HUBAVG</td>\n",
       "      <td>0.187334</td>\n",
       "      <td>2016</td>\n",
       "    </tr>\n",
       "    <tr>\n",
       "      <th>3</th>\n",
       "      <td>HB_NORTH</td>\n",
       "      <td>0.184080</td>\n",
       "      <td>2016</td>\n",
       "    </tr>\n",
       "    <tr>\n",
       "      <th>4</th>\n",
       "      <td>HB_SOUTH</td>\n",
       "      <td>0.208387</td>\n",
       "      <td>2016</td>\n",
       "    </tr>\n",
       "  </tbody>\n",
       "</table>\n",
       "</div>"
      ],
      "text/plain": [
       "  SettlementPoint  HourlyVolatility  Year\n",
       "0       HB_BUSAVG          0.185377  2016\n",
       "1      HB_HOUSTON          0.190962  2016\n",
       "2       HB_HUBAVG          0.187334  2016\n",
       "3        HB_NORTH          0.184080  2016\n",
       "4        HB_SOUTH          0.208387  2016"
      ]
     },
     "execution_count": 146,
     "metadata": {},
     "output_type": "execute_result"
    }
   ],
   "source": [
    "year = 2016\n",
    "\n",
    "tmp = df_tmp_01.copy()\n",
    "\n",
    "tmp['settlement_type'] = [p[0:2] for p in tmp['SettlementPoint']]\n",
    "\n",
    "# filter out zero or negative\n",
    "print('before remove zero and negative', tmp.shape)\n",
    "tmp = tmp.loc[tmp['Price'] > 0]\n",
    "print('after', tmp.shape)\n",
    "\n",
    "# do not compute load zones\n",
    "print('before remove load zone', tmp.shape)\n",
    "tmp = tmp.loc[tmp['settlement_type'] == 'HB']\n",
    "print('after', tmp.shape)\n",
    "\n",
    "print(tmp['SettlementPoint'].unique())\n",
    "\n",
    "# set index\n",
    "tmp['index'] = pd.to_datetime(tmp['Date'])\n",
    "tmp = tmp.set_index(['index', 'SettlementPoint'])\n",
    "\n",
    "# remove columns\n",
    "tmp = tmp.drop(['Date', 'settlement_type'], axis = 1)\n",
    "\n",
    "# unstack\n",
    "tmp = tmp.unstack(level = 1)\n",
    "\n",
    "# rename columns\n",
    "tmp.columns = tmp.columns.get_level_values(1)\n",
    "\n",
    "# calculate log return\n",
    "hubs = tmp.columns\n",
    "for h in hubs:\n",
    "    new_name = 'logreturn_' + h\n",
    "    tmp[new_name] = np.log(tmp[h]).diff()\n",
    "    \n",
    "# drop na\n",
    "tmp = tmp.dropna()\n",
    "\n",
    "# remove original price columns\n",
    "tmp = tmp.drop(hubs.tolist(), axis = 1)\n",
    "\n",
    "# calculate sd\n",
    "tmp = tmp.std().to_frame()\n",
    "tmp = tmp.rename(columns = {0: 'HourlyVolatility'})\n",
    "\n",
    "# organize columns\n",
    "tmp['Year'] = year\n",
    "tmp = tmp.reset_index()\n",
    "tmp['SettlementPoint'] = [s[10:] for s in tmp['SettlementPoint']]\n",
    "\n",
    "tmp.head()"
   ]
  },
  {
   "cell_type": "code",
   "execution_count": 147,
   "metadata": {},
   "outputs": [
    {
     "data": {
      "text/plain": [
       "10"
      ]
     },
     "execution_count": 147,
     "metadata": {},
     "output_type": "execute_result"
    }
   ],
   "source": [
    "s = \"logreturn_\"\n",
    "len(s)"
   ]
  },
  {
   "cell_type": "code",
   "execution_count": 148,
   "metadata": {},
   "outputs": [],
   "source": [
    "def calc_volatility(df, year):\n",
    "    tmp = df.copy()\n",
    "\n",
    "    tmp['settlement_type'] = [p[0:2] for p in tmp['SettlementPoint']]\n",
    "\n",
    "    # filter out zero or negative\n",
    "    # print('before remove zero and negative', tmp.shape)\n",
    "    tmp = tmp.loc[tmp['Price'] > 0]\n",
    "    # print('after', tmp.shape)\n",
    "\n",
    "    # do not compute load zones\n",
    "    # print('before remove load zone', tmp.shape)\n",
    "    tmp = tmp.loc[tmp['settlement_type'] == 'HB']\n",
    "    # print('after', tmp.shape)\n",
    "\n",
    "    # print(tmp['SettlementPoint'].unique())\n",
    "\n",
    "    # set index\n",
    "    tmp['index'] = pd.to_datetime(tmp['Date'])\n",
    "    tmp = tmp.set_index(['index', 'SettlementPoint'])\n",
    "\n",
    "    # remove columns\n",
    "    tmp = tmp.drop(['Date', 'settlement_type'], axis = 1)\n",
    "\n",
    "    # unstack\n",
    "    tmp = tmp.unstack(level = 1)\n",
    "\n",
    "    # rename columns\n",
    "    tmp.columns = tmp.columns.get_level_values(1)\n",
    "\n",
    "    # calculate log return\n",
    "    hubs = tmp.columns\n",
    "    for h in hubs:\n",
    "        new_name = 'logreturn_' + h\n",
    "        tmp[new_name] = np.log(tmp[h]).diff()\n",
    "\n",
    "    # drop na\n",
    "    tmp = tmp.dropna()\n",
    "\n",
    "    # remove original price columns\n",
    "    tmp = tmp.drop(hubs.tolist(), axis = 1)\n",
    "\n",
    "    # calculate sd\n",
    "    tmp = tmp.std().to_frame()\n",
    "    tmp = tmp.rename(columns = {0: 'HourlyVolatility'})\n",
    "\n",
    "    # organize columns\n",
    "    tmp['Year'] = year\n",
    "    tmp = tmp.reset_index()\n",
    "    tmp['SettlementPoint'] = [s[10:] for s in tmp['SettlementPoint']]\n",
    "    \n",
    "    return tmp"
   ]
  },
  {
   "cell_type": "code",
   "execution_count": 172,
   "metadata": {},
   "outputs": [],
   "source": [
    "df_vol_01 = calc_volatility(df_tmp_01, 2016)\n",
    "df_vol_02 = calc_volatility(df_tmp_02, 2017)\n",
    "df_vol_03 = calc_volatility(df_tmp_03, 2018)\n",
    "df_vol_04 = calc_volatility(df_tmp_04, 2019)\n",
    "\n",
    "df_vol = df_vol_01.append([df_vol_02, df_vol_03, df_vol_04])\n",
    "df_vol = df_vol.reset_index(drop = True)"
   ]
  },
  {
   "cell_type": "markdown",
   "metadata": {},
   "source": [
    "## Task 5"
   ]
  },
  {
   "cell_type": "code",
   "execution_count": 150,
   "metadata": {},
   "outputs": [],
   "source": [
    "df_vol.to_csv(PATH_CSV_06, index = False)"
   ]
  },
  {
   "cell_type": "markdown",
   "metadata": {},
   "source": [
    "## Task 6"
   ]
  },
  {
   "cell_type": "code",
   "execution_count": 179,
   "metadata": {},
   "outputs": [
    {
     "name": "stdout",
     "output_type": "stream",
     "text": [
      "4\n"
     ]
    },
    {
     "data": {
      "text/html": [
       "<div>\n",
       "<style scoped>\n",
       "    .dataframe tbody tr th:only-of-type {\n",
       "        vertical-align: middle;\n",
       "    }\n",
       "\n",
       "    .dataframe tbody tr th {\n",
       "        vertical-align: top;\n",
       "    }\n",
       "\n",
       "    .dataframe thead th {\n",
       "        text-align: right;\n",
       "    }\n",
       "</style>\n",
       "<table border=\"1\" class=\"dataframe\">\n",
       "  <thead>\n",
       "    <tr style=\"text-align: right;\">\n",
       "      <th></th>\n",
       "      <th>SettlementPoint</th>\n",
       "      <th>HourlyVolatility</th>\n",
       "      <th>Year</th>\n",
       "    </tr>\n",
       "  </thead>\n",
       "  <tbody>\n",
       "    <tr>\n",
       "      <th>4</th>\n",
       "      <td>HB_SOUTH</td>\n",
       "      <td>0.208387</td>\n",
       "      <td>2016</td>\n",
       "    </tr>\n",
       "  </tbody>\n",
       "</table>\n",
       "</div>"
      ],
      "text/plain": [
       "  SettlementPoint HourlyVolatility  Year\n",
       "4        HB_SOUTH         0.208387  2016"
      ]
     },
     "execution_count": 179,
     "metadata": {},
     "output_type": "execute_result"
    }
   ],
   "source": [
    "year = 2016\n",
    "\n",
    "tmp = df_vol.copy()\n",
    "\n",
    "idx_max = tmp.loc[tmp['Year'] == year, 'HourlyVolatility'].idxmax()\n",
    "\n",
    "print(idx_max)\n",
    "\n",
    "tmp.iloc[idx_max].to_frame().transpose()"
   ]
  },
  {
   "cell_type": "code",
   "execution_count": 194,
   "metadata": {},
   "outputs": [],
   "source": [
    "years = df_vol['Year'].unique().tolist()\n",
    "\n",
    "list_tmp = []\n",
    "\n",
    "for year in years:\n",
    "    tmp = df_vol.copy()\n",
    "    idx_max = tmp.loc[tmp['Year'] == year, 'HourlyVolatility'].idxmax()\n",
    "    list_tmp.append(tmp.iloc[idx_max])\n",
    "    \n",
    "df_max_vol = pd.DataFrame(list_tmp)\n",
    "df_max_vol = df_max_vol[['SettlementPoint', 'Year', 'HourlyVolatility']]"
   ]
  },
  {
   "cell_type": "code",
   "execution_count": 195,
   "metadata": {},
   "outputs": [
    {
     "data": {
      "text/html": [
       "<div>\n",
       "<style scoped>\n",
       "    .dataframe tbody tr th:only-of-type {\n",
       "        vertical-align: middle;\n",
       "    }\n",
       "\n",
       "    .dataframe tbody tr th {\n",
       "        vertical-align: top;\n",
       "    }\n",
       "\n",
       "    .dataframe thead th {\n",
       "        text-align: right;\n",
       "    }\n",
       "</style>\n",
       "<table border=\"1\" class=\"dataframe\">\n",
       "  <thead>\n",
       "    <tr style=\"text-align: right;\">\n",
       "      <th></th>\n",
       "      <th>SettlementPoint</th>\n",
       "      <th>Year</th>\n",
       "      <th>HourlyVolatility</th>\n",
       "    </tr>\n",
       "  </thead>\n",
       "  <tbody>\n",
       "    <tr>\n",
       "      <th>4</th>\n",
       "      <td>HB_SOUTH</td>\n",
       "      <td>2016</td>\n",
       "      <td>0.208387</td>\n",
       "    </tr>\n",
       "    <tr>\n",
       "      <th>11</th>\n",
       "      <td>HB_WEST</td>\n",
       "      <td>2017</td>\n",
       "      <td>0.239376</td>\n",
       "    </tr>\n",
       "    <tr>\n",
       "      <th>17</th>\n",
       "      <td>HB_WEST</td>\n",
       "      <td>2018</td>\n",
       "      <td>0.287354</td>\n",
       "    </tr>\n",
       "    <tr>\n",
       "      <th>22</th>\n",
       "      <td>HB_PAN</td>\n",
       "      <td>2019</td>\n",
       "      <td>0.547431</td>\n",
       "    </tr>\n",
       "  </tbody>\n",
       "</table>\n",
       "</div>"
      ],
      "text/plain": [
       "   SettlementPoint  Year  HourlyVolatility\n",
       "4         HB_SOUTH  2016          0.208387\n",
       "11         HB_WEST  2017          0.239376\n",
       "17         HB_WEST  2018          0.287354\n",
       "22          HB_PAN  2019          0.547431"
      ]
     },
     "execution_count": 195,
     "metadata": {},
     "output_type": "execute_result"
    }
   ],
   "source": [
    "df_max_vol"
   ]
  },
  {
   "cell_type": "code",
   "execution_count": 197,
   "metadata": {},
   "outputs": [],
   "source": [
    "df_max_vol.to_csv(PATH_CSV_07, index = False)"
   ]
  },
  {
   "cell_type": "markdown",
   "metadata": {},
   "source": [
    "## Task 7"
   ]
  },
  {
   "cell_type": "code",
   "execution_count": 233,
   "metadata": {},
   "outputs": [
    {
     "data": {
      "text/html": [
       "<div>\n",
       "<style scoped>\n",
       "    .dataframe tbody tr th:only-of-type {\n",
       "        vertical-align: middle;\n",
       "    }\n",
       "\n",
       "    .dataframe tbody tr th {\n",
       "        vertical-align: top;\n",
       "    }\n",
       "\n",
       "    .dataframe thead th {\n",
       "        text-align: right;\n",
       "    }\n",
       "</style>\n",
       "<table border=\"1\" class=\"dataframe\">\n",
       "  <thead>\n",
       "    <tr style=\"text-align: right;\">\n",
       "      <th></th>\n",
       "      <th>Variable</th>\n",
       "      <th>Date</th>\n",
       "      <th>X1</th>\n",
       "      <th>X2</th>\n",
       "      <th>X3</th>\n",
       "      <th>X4</th>\n",
       "      <th>X5</th>\n",
       "      <th>X6</th>\n",
       "      <th>X7</th>\n",
       "      <th>X8</th>\n",
       "      <th>...</th>\n",
       "      <th>X15</th>\n",
       "      <th>X16</th>\n",
       "      <th>X17</th>\n",
       "      <th>X18</th>\n",
       "      <th>X19</th>\n",
       "      <th>X20</th>\n",
       "      <th>X21</th>\n",
       "      <th>X22</th>\n",
       "      <th>X23</th>\n",
       "      <th>X24</th>\n",
       "    </tr>\n",
       "  </thead>\n",
       "  <tbody>\n",
       "    <tr>\n",
       "      <th>0</th>\n",
       "      <td>HB_BUSAVG</td>\n",
       "      <td>1/1/2016</td>\n",
       "      <td>18.42</td>\n",
       "      <td>16.15</td>\n",
       "      <td>15.61</td>\n",
       "      <td>15.62</td>\n",
       "      <td>15.94</td>\n",
       "      <td>16.69</td>\n",
       "      <td>18.96</td>\n",
       "      <td>19.18</td>\n",
       "      <td>...</td>\n",
       "      <td>19.09</td>\n",
       "      <td>19.34</td>\n",
       "      <td>20.07</td>\n",
       "      <td>24.96</td>\n",
       "      <td>26.26</td>\n",
       "      <td>23.24</td>\n",
       "      <td>22.79</td>\n",
       "      <td>21.36</td>\n",
       "      <td>20.31</td>\n",
       "      <td>19.65</td>\n",
       "    </tr>\n",
       "    <tr>\n",
       "      <th>1</th>\n",
       "      <td>HB_BUSAVG</td>\n",
       "      <td>1/2/2016</td>\n",
       "      <td>18.99</td>\n",
       "      <td>17.94</td>\n",
       "      <td>17.16</td>\n",
       "      <td>17.00</td>\n",
       "      <td>17.90</td>\n",
       "      <td>17.65</td>\n",
       "      <td>20.11</td>\n",
       "      <td>21.33</td>\n",
       "      <td>...</td>\n",
       "      <td>18.29</td>\n",
       "      <td>17.94</td>\n",
       "      <td>19.34</td>\n",
       "      <td>23.48</td>\n",
       "      <td>23.48</td>\n",
       "      <td>21.73</td>\n",
       "      <td>20.73</td>\n",
       "      <td>19.97</td>\n",
       "      <td>19.87</td>\n",
       "      <td>18.43</td>\n",
       "    </tr>\n",
       "    <tr>\n",
       "      <th>2</th>\n",
       "      <td>HB_BUSAVG</td>\n",
       "      <td>1/3/2016</td>\n",
       "      <td>17.44</td>\n",
       "      <td>16.46</td>\n",
       "      <td>16.18</td>\n",
       "      <td>16.35</td>\n",
       "      <td>17.01</td>\n",
       "      <td>17.70</td>\n",
       "      <td>19.28</td>\n",
       "      <td>20.03</td>\n",
       "      <td>...</td>\n",
       "      <td>16.04</td>\n",
       "      <td>15.97</td>\n",
       "      <td>16.98</td>\n",
       "      <td>21.26</td>\n",
       "      <td>21.87</td>\n",
       "      <td>20.88</td>\n",
       "      <td>20.25</td>\n",
       "      <td>19.69</td>\n",
       "      <td>18.78</td>\n",
       "      <td>18.14</td>\n",
       "    </tr>\n",
       "    <tr>\n",
       "      <th>3</th>\n",
       "      <td>HB_BUSAVG</td>\n",
       "      <td>1/4/2016</td>\n",
       "      <td>17.01</td>\n",
       "      <td>17.07</td>\n",
       "      <td>17.47</td>\n",
       "      <td>18.00</td>\n",
       "      <td>19.34</td>\n",
       "      <td>21.79</td>\n",
       "      <td>53.72</td>\n",
       "      <td>35.84</td>\n",
       "      <td>...</td>\n",
       "      <td>16.44</td>\n",
       "      <td>16.52</td>\n",
       "      <td>17.43</td>\n",
       "      <td>23.00</td>\n",
       "      <td>27.38</td>\n",
       "      <td>22.92</td>\n",
       "      <td>22.65</td>\n",
       "      <td>21.53</td>\n",
       "      <td>20.39</td>\n",
       "      <td>18.72</td>\n",
       "    </tr>\n",
       "    <tr>\n",
       "      <th>4</th>\n",
       "      <td>HB_BUSAVG</td>\n",
       "      <td>1/5/2016</td>\n",
       "      <td>15.89</td>\n",
       "      <td>15.88</td>\n",
       "      <td>15.99</td>\n",
       "      <td>16.50</td>\n",
       "      <td>18.00</td>\n",
       "      <td>21.19</td>\n",
       "      <td>48.84</td>\n",
       "      <td>29.84</td>\n",
       "      <td>...</td>\n",
       "      <td>18.01</td>\n",
       "      <td>17.63</td>\n",
       "      <td>18.48</td>\n",
       "      <td>22.64</td>\n",
       "      <td>22.71</td>\n",
       "      <td>21.93</td>\n",
       "      <td>21.00</td>\n",
       "      <td>19.64</td>\n",
       "      <td>18.61</td>\n",
       "      <td>17.11</td>\n",
       "    </tr>\n",
       "  </tbody>\n",
       "</table>\n",
       "<p>5 rows × 26 columns</p>\n",
       "</div>"
      ],
      "text/plain": [
       "    Variable      Date     X1     X2     X3     X4     X5     X6     X7  \\\n",
       "0  HB_BUSAVG  1/1/2016  18.42  16.15  15.61  15.62  15.94  16.69  18.96   \n",
       "1  HB_BUSAVG  1/2/2016  18.99  17.94  17.16  17.00  17.90  17.65  20.11   \n",
       "2  HB_BUSAVG  1/3/2016  17.44  16.46  16.18  16.35  17.01  17.70  19.28   \n",
       "3  HB_BUSAVG  1/4/2016  17.01  17.07  17.47  18.00  19.34  21.79  53.72   \n",
       "4  HB_BUSAVG  1/5/2016  15.89  15.88  15.99  16.50  18.00  21.19  48.84   \n",
       "\n",
       "      X8  ...      X15    X16    X17    X18    X19    X20    X21    X22  \\\n",
       "0  19.18  ...    19.09  19.34  20.07  24.96  26.26  23.24  22.79  21.36   \n",
       "1  21.33  ...    18.29  17.94  19.34  23.48  23.48  21.73  20.73  19.97   \n",
       "2  20.03  ...    16.04  15.97  16.98  21.26  21.87  20.88  20.25  19.69   \n",
       "3  35.84  ...    16.44  16.52  17.43  23.00  27.38  22.92  22.65  21.53   \n",
       "4  29.84  ...    18.01  17.63  18.48  22.64  22.71  21.93  21.00  19.64   \n",
       "\n",
       "     X23    X24  \n",
       "0  20.31  19.65  \n",
       "1  19.87  18.43  \n",
       "2  18.78  18.14  \n",
       "3  20.39  18.72  \n",
       "4  18.61  17.11  \n",
       "\n",
       "[5 rows x 26 columns]"
      ]
     },
     "execution_count": 233,
     "metadata": {},
     "output_type": "execute_result"
    }
   ],
   "source": [
    "i = 0\n",
    "\n",
    "tmp = df_price.copy()\n",
    "tmp['he'] = tmp.index.hour + 1\n",
    "tmp['day'] = tmp.index.day\n",
    "\n",
    "# tmp['date_csv'] = tmp['month'].astype(str) + '/' + tmp['day'].astype(str) + '/' + tmp['year'].astype(str)\n",
    "tmp['date_csv'] = [d[0:10] for d in tmp['Date']]\n",
    "\n",
    "points = tmp['SettlementPoint'].unique().tolist()\n",
    "\n",
    "tmp = tmp.loc[tmp['SettlementPoint'] == points[i]]\n",
    "\n",
    "tmp\n",
    "# remove unnecessary columns\n",
    "tmp = tmp.drop(['Date', 'datetime', 'year', 'day', 'month'], axis = 1)\n",
    "\n",
    "# set index\n",
    "tmp = tmp.reset_index(drop = True)\n",
    "tmp = tmp.set_index(['SettlementPoint', 'date_csv', 'he'])\n",
    "\n",
    "# unstack\n",
    "tmp = tmp.unstack(level = 2)\n",
    "\n",
    "# change column names\n",
    "hes = tmp.columns.get_level_values(1)\n",
    "\n",
    "new_names = []\n",
    "for he in hes:\n",
    "    new_names.append('X' + str(he))\n",
    "    \n",
    "tmp.columns = new_names\n",
    "\n",
    "# organize it to required csv format\n",
    "tmp = tmp.reset_index()\n",
    "tmp = tmp.rename(columns = {'SettlementPoint': 'Variable',\n",
    "                            'date_csv': 'Date'})\n",
    "tmp['Date'] = [str(int(d[5:7])) + '/' + str(int(d[8:10])) + '/' + str(d[0:4]) for d in tmp['Date']]\n",
    "\n",
    "tmp.head()"
   ]
  },
  {
   "cell_type": "code",
   "execution_count": 242,
   "metadata": {},
   "outputs": [],
   "source": [
    "def make_model_input(df, variable):\n",
    "    tmp = df.copy()\n",
    "    tmp['he'] = tmp.index.hour + 1\n",
    "    tmp['day'] = tmp.index.day\n",
    "\n",
    "    # tmp['date_csv'] = tmp['month'].astype(str) + '/' + tmp['day'].astype(str) + '/' + tmp['year'].astype(str)\n",
    "    tmp['date_csv'] = [d[0:10] for d in tmp['Date']]\n",
    "\n",
    "    # points = tmp['SettlementPoint'].unique().tolist()\n",
    "\n",
    "    # tmp = tmp.loc[tmp['SettlementPoint'] == points[i]]\n",
    "    tmp = tmp.loc[tmp['SettlementPoint'] == variable]\n",
    "\n",
    "    tmp\n",
    "    # remove unnecessary columns\n",
    "    tmp = tmp.drop(['Date', 'datetime', 'year', 'day', 'month'], axis = 1)\n",
    "\n",
    "    # set index\n",
    "    tmp = tmp.reset_index(drop = True)\n",
    "    tmp = tmp.set_index(['SettlementPoint', 'date_csv', 'he'])\n",
    "\n",
    "    # unstack\n",
    "    tmp = tmp.unstack(level = 2)\n",
    "\n",
    "    # change column names\n",
    "    hes = tmp.columns.get_level_values(1)\n",
    "\n",
    "    new_names = []\n",
    "    for he in hes:\n",
    "        new_names.append('X' + str(he))\n",
    "\n",
    "    tmp.columns = new_names\n",
    "\n",
    "    # organize it to required csv format\n",
    "    tmp = tmp.reset_index()\n",
    "    tmp = tmp.rename(columns = {'SettlementPoint': 'Variable',\n",
    "                                'date_csv': 'Date'})\n",
    "    tmp['Date'] = [str(int(d[5:7])) + '/' + str(int(d[8:10])) + '/' + str(d[0:4]) for d in tmp['Date']]\n",
    "\n",
    "    return tmp"
   ]
  },
  {
   "cell_type": "code",
   "execution_count": 241,
   "metadata": {},
   "outputs": [],
   "source": [
    "variable = 'HB_BUSAVG'\n",
    "test = make_model_input(df_price, variable)\n",
    "CSV_NAME = 'spot_' + variable + '.csv'\n",
    "\n",
    "test.to_csv(CSV_NAME, index = False)\n",
    "\n",
    "test.to_csv(SUBDIR + CSV_NAME, index = False)"
   ]
  },
  {
   "cell_type": "code",
   "execution_count": 244,
   "metadata": {},
   "outputs": [],
   "source": [
    "variables = df_price['SettlementPoint'].unique().tolist()\n",
    "\n",
    "for variable in variables:\n",
    "    df_model = make_model_input(df_price, variable)\n",
    "    CSV_NAME = 'spot_' + variable + '.csv'\n",
    "    df_model.to_csv(SUBDIR + CSV_NAME, index = False)"
   ]
  },
  {
   "cell_type": "markdown",
   "metadata": {},
   "source": [
    "## Bonus - Mean Plots"
   ]
  },
  {
   "cell_type": "code",
   "execution_count": 272,
   "metadata": {},
   "outputs": [
    {
     "data": {
      "image/png": "[encoded data removed]",
      "text/plain": [
       "<Figure size 432x288 with 1 Axes>"
      ]
     },
     "metadata": {
      "needs_background": "light"
     },
     "output_type": "display_data"
    }
   ],
   "source": [
    "TYPE = 'HB'\n",
    "tmp = average_price.copy()\n",
    "\n",
    "# make columns\n",
    "tmp['type'] = [sp[0:2] for sp in tmp['SettlementPoint']]\n",
    "tmp['day'] = 1\n",
    "tmp['index'] = tmp['Year'].astype(str) + '-' + tmp['Month'].astype(str) + '-' + tmp['day'].astype(str)\n",
    "tmp['index'] = pd.to_datetime(tmp['index'])\n",
    "\n",
    "# only hub\n",
    "tmp = tmp.loc[tmp['type'] == TYPE]\n",
    "\n",
    "# remove unnecessary columns\n",
    "tmp = tmp.drop(['Year', 'Month', 'day', 'type'], axis = 1)\n",
    "\n",
    "# index\n",
    "tmp = tmp.set_index(['index', 'SettlementPoint'])\n",
    "tmp = tmp.unstack(level = 1)\n",
    "\n",
    "# column name\n",
    "tmp.columns = tmp.columns.get_level_values(1)\n",
    "\n",
    "hubs = tmp.columns\n",
    "\n",
    "for hub in hubs:\n",
    "\n",
    "    plt.plot(tmp[hub], label = hub)\n",
    "    \n",
    "plt.xticks(rotation = 45)\n",
    "plt.xlabel('Date')\n",
    "plt.ylabel('Average price')\n",
    "plt.title('Hubs mean plots')\n",
    "plt.legend()\n",
    "plt.show()"
   ]
  },
  {
   "cell_type": "code",
   "execution_count": 273,
   "metadata": {},
   "outputs": [],
   "source": [
    "def make_plot_df(df, TYPE):\n",
    "    \n",
    "    tmp = df.copy()\n",
    "\n",
    "    # make columns\n",
    "    tmp['type'] = [sp[0:2] for sp in tmp['SettlementPoint']]\n",
    "    tmp['day'] = 1\n",
    "    tmp['index'] = tmp['Year'].astype(str) + '-' + tmp['Month'].astype(str) + '-' + tmp['day'].astype(str)\n",
    "    tmp['index'] = pd.to_datetime(tmp['index'])\n",
    "\n",
    "    # only hub\n",
    "    tmp = tmp.loc[tmp['type'] == TYPE]\n",
    "\n",
    "    # remove unnecessary columns\n",
    "    tmp = tmp.drop(['Year', 'Month', 'day', 'type'], axis = 1)\n",
    "\n",
    "    # index\n",
    "    tmp = tmp.set_index(['index', 'SettlementPoint'])\n",
    "    tmp = tmp.unstack(level = 1)\n",
    "\n",
    "    # column name\n",
    "    tmp.columns = tmp.columns.get_level_values(1)\n",
    "\n",
    "    return tmp"
   ]
  },
  {
   "cell_type": "code",
   "execution_count": 292,
   "metadata": {},
   "outputs": [
    {
     "data": {
      "image/png": "[encoded data removed]",
      "text/plain": [
       "<Figure size 432x288 with 1 Axes>"
      ]
     },
     "metadata": {
      "needs_background": "light"
     },
     "output_type": "display_data"
    }
   ],
   "source": [
    "df_hub_plot = make_plot_df(average_price, 'HB')\n",
    "cols = df_hub_plot.columns\n",
    "\n",
    "for col in cols:\n",
    "\n",
    "    plt.plot(df_hub_plot[col], label = col)\n",
    "    \n",
    "plt.xticks(rotation = 45)\n",
    "plt.xlabel('Date')\n",
    "plt.ylabel('Average price')\n",
    "plt.title('Hubs mean plots')\n",
    "plt.legend()\n",
    "plt.savefig(SAVEFIG_01)\n",
    "plt.show()"
   ]
  },
  {
   "cell_type": "code",
   "execution_count": 293,
   "metadata": {},
   "outputs": [
    {
     "data": {
      "image/png": "[encoded data removed]",
      "text/plain": [
       "<Figure size 432x288 with 1 Axes>"
      ]
     },
     "metadata": {
      "needs_background": "light"
     },
     "output_type": "display_data"
    }
   ],
   "source": [
    "df_lz_plot = make_plot_df(average_price, 'LZ')\n",
    "cols = df_lz_plot.columns\n",
    "\n",
    "for col in cols:\n",
    "\n",
    "    plt.plot(df_lz_plot[col], label = col)\n",
    "    \n",
    "plt.xticks(rotation = 45)\n",
    "plt.xlabel('Date')\n",
    "plt.ylabel('Average price')\n",
    "plt.title('Load zones mean plots')\n",
    "plt.legend()\n",
    "plt.savefig(SAVEFIG_02)\n",
    "plt.show()"
   ]
  },
  {
   "cell_type": "markdown",
   "metadata": {},
   "source": [
    "## Bonus - Volatility Plots"
   ]
  },
  {
   "cell_type": "code",
   "execution_count": 312,
   "metadata": {},
   "outputs": [
    {
     "data": {
      "image/png": "[encoded data removed]",
      "text/plain": [
       "<Figure size 432x288 with 1 Axes>"
      ]
     },
     "metadata": {
      "needs_background": "light"
     },
     "output_type": "display_data"
    }
   ],
   "source": [
    "TYPE = 'HB'\n",
    "tmp = df_vol.copy()\n",
    "\n",
    "# make columns\n",
    "tmp['type'] = [sp[0:2] for sp in tmp['SettlementPoint']]\n",
    "tmp['Month'] = 1\n",
    "tmp['day'] = 1\n",
    "tmp['index'] = tmp['Year'].astype(str) + '-' + tmp['Month'].astype(str) + '-' + tmp['day'].astype(str)\n",
    "tmp['index'] = pd.to_datetime(tmp['index'])\n",
    "\n",
    "# only hub\n",
    "tmp = tmp.loc[tmp['type'] == TYPE]\n",
    "\n",
    "# remove unnecessary columns\n",
    "tmp = tmp.drop(['Year', 'Month', 'day', 'type'], axis = 1)\n",
    "\n",
    "# index\n",
    "tmp = tmp.set_index(['index', 'SettlementPoint'])\n",
    "tmp = tmp.unstack(level = 1)\n",
    "\n",
    "# column name\n",
    "tmp.columns = tmp.columns.get_level_values(1)\n",
    "\n",
    "years = ['2016', '2017', '2018', '2019']\n",
    "\n",
    "plt.bar(range(4), tmp['HB_BUSAVG'], width = 0.2, label = 'HB_BUSAVG')\n",
    "plt.xticks(range(4), years)\n",
    "plt.ylabel('Volatility')\n",
    "plt.xlabel('Year')\n",
    "plt.legend()\n",
    "plt.show()"
   ]
  },
  {
   "cell_type": "code",
   "execution_count": 321,
   "metadata": {},
   "outputs": [
    {
     "data": {
      "image/png": "[encoded data removed]",
      "text/plain": [
       "<Figure size 432x288 with 1 Axes>"
      ]
     },
     "metadata": {
      "needs_background": "light"
     },
     "output_type": "display_data"
    }
   ],
   "source": [
    "TYPE = 'HB'\n",
    "tmp = df_vol.copy()\n",
    "\n",
    "# make columns\n",
    "tmp['type'] = [sp[0:2] for sp in tmp['SettlementPoint']]\n",
    "tmp['Month'] = 1\n",
    "tmp['day'] = 1\n",
    "tmp['index'] = tmp['Year'].astype(str) + '-' + tmp['Month'].astype(str) + '-' + tmp['day'].astype(str)\n",
    "tmp['index'] = pd.to_datetime(tmp['index'])\n",
    "\n",
    "# only hub\n",
    "tmp = tmp.loc[tmp['type'] == TYPE]\n",
    "\n",
    "# remove unnecessary columns\n",
    "tmp = tmp.drop(['Year', 'Month', 'day', 'type'], axis = 1)\n",
    "\n",
    "# index\n",
    "tmp = tmp.set_index(['index', 'SettlementPoint'])\n",
    "tmp = tmp.unstack(level = 1)\n",
    "\n",
    "# column name\n",
    "tmp.columns = tmp.columns.get_level_values(1)\n",
    "\n",
    "years = ['2016', '2017', '2018', '2019']\n",
    "\n",
    "for i, col in enumerate(tmp.columns):\n",
    "\n",
    "    plt.bar(np.arange(4) + i * 0.1 - 0.3, tmp[col], width = 0.1, label = col)\n",
    "\n",
    "plt.xticks(np.arange(4), years)\n",
    "plt.ylabel('Volatility')\n",
    "plt.xlabel('Year')\n",
    "plt.title('Volatility Plot')\n",
    "plt.legend()\n",
    "plt.savefig(SAVEFIG_03)\n",
    "plt.show()"
   ]
  },
  {
   "cell_type": "markdown",
   "metadata": {},
   "source": [
    "## Bonus - Hourly Shape Profile Computation"
   ]
  },
  {
   "cell_type": "code",
   "execution_count": 348,
   "metadata": {},
   "outputs": [
    {
     "data": {
      "text/plain": [
       "[<matplotlib.lines.Line2D at 0x199232b4400>]"
      ]
     },
     "execution_count": 348,
     "metadata": {},
     "output_type": "execute_result"
    },
    {
     "data": {
      "image/png": "[encoded data removed]",
      "text/plain": [
       "<Figure size 432x288 with 1 Axes>"
      ]
     },
     "metadata": {
      "needs_background": "light"
     },
     "output_type": "display_data"
    }
   ],
   "source": [
    "tmp = pd.read_csv(SUBDIR + 'spot_HB_BUSAVG.csv')\n",
    "tmp['index'] = pd.to_datetime(tmp['Date'])\n",
    "tmp = tmp.set_index('index')\n",
    "tmp = tmp.loc[(tmp.index.month == 1) & \n",
    "              (tmp.index.dayofweek == 0)]\n",
    "\n",
    "means = np.array(tmp.mean().tolist())\n",
    "\n",
    "normalized = means / sum(means)\n",
    "\n",
    "plt.plot(normalized)"
   ]
  },
  {
   "cell_type": "code",
   "execution_count": 371,
   "metadata": {},
   "outputs": [
    {
     "data": {
      "text/html": [
       "<div>\n",
       "<style scoped>\n",
       "    .dataframe tbody tr th:only-of-type {\n",
       "        vertical-align: middle;\n",
       "    }\n",
       "\n",
       "    .dataframe tbody tr th {\n",
       "        vertical-align: top;\n",
       "    }\n",
       "\n",
       "    .dataframe thead th {\n",
       "        text-align: right;\n",
       "    }\n",
       "</style>\n",
       "<table border=\"1\" class=\"dataframe\">\n",
       "  <thead>\n",
       "    <tr style=\"text-align: right;\">\n",
       "      <th></th>\n",
       "      <th>month</th>\n",
       "      <th>dayofweek</th>\n",
       "      <th>X1</th>\n",
       "      <th>X2</th>\n",
       "      <th>X3</th>\n",
       "      <th>X4</th>\n",
       "      <th>X5</th>\n",
       "      <th>X6</th>\n",
       "      <th>X7</th>\n",
       "      <th>X8</th>\n",
       "      <th>...</th>\n",
       "      <th>X15</th>\n",
       "      <th>X16</th>\n",
       "      <th>X17</th>\n",
       "      <th>X18</th>\n",
       "      <th>X19</th>\n",
       "      <th>X20</th>\n",
       "      <th>X21</th>\n",
       "      <th>X22</th>\n",
       "      <th>X23</th>\n",
       "      <th>X24</th>\n",
       "    </tr>\n",
       "  </thead>\n",
       "  <tbody>\n",
       "    <tr>\n",
       "      <th>0</th>\n",
       "      <td>1</td>\n",
       "      <td>0</td>\n",
       "      <td>0.031722</td>\n",
       "      <td>0.030484</td>\n",
       "      <td>0.030350</td>\n",
       "      <td>0.031295</td>\n",
       "      <td>0.034005</td>\n",
       "      <td>0.038473</td>\n",
       "      <td>0.063890</td>\n",
       "      <td>0.058083</td>\n",
       "      <td>...</td>\n",
       "      <td>0.036612</td>\n",
       "      <td>0.035847</td>\n",
       "      <td>0.037385</td>\n",
       "      <td>0.054839</td>\n",
       "      <td>0.058074</td>\n",
       "      <td>0.046716</td>\n",
       "      <td>0.043663</td>\n",
       "      <td>0.040849</td>\n",
       "      <td>0.037417</td>\n",
       "      <td>0.033969</td>\n",
       "    </tr>\n",
       "    <tr>\n",
       "      <th>1</th>\n",
       "      <td>1</td>\n",
       "      <td>1</td>\n",
       "      <td>0.026330</td>\n",
       "      <td>0.025004</td>\n",
       "      <td>0.025110</td>\n",
       "      <td>0.026489</td>\n",
       "      <td>0.030282</td>\n",
       "      <td>0.036408</td>\n",
       "      <td>0.065749</td>\n",
       "      <td>0.062837</td>\n",
       "      <td>...</td>\n",
       "      <td>0.035015</td>\n",
       "      <td>0.035243</td>\n",
       "      <td>0.037602</td>\n",
       "      <td>0.061643</td>\n",
       "      <td>0.068978</td>\n",
       "      <td>0.051856</td>\n",
       "      <td>0.045876</td>\n",
       "      <td>0.041800</td>\n",
       "      <td>0.036998</td>\n",
       "      <td>0.034059</td>\n",
       "    </tr>\n",
       "    <tr>\n",
       "      <th>2</th>\n",
       "      <td>1</td>\n",
       "      <td>2</td>\n",
       "      <td>0.023784</td>\n",
       "      <td>0.022953</td>\n",
       "      <td>0.023073</td>\n",
       "      <td>0.024100</td>\n",
       "      <td>0.028680</td>\n",
       "      <td>0.044134</td>\n",
       "      <td>0.144222</td>\n",
       "      <td>0.145185</td>\n",
       "      <td>...</td>\n",
       "      <td>0.027232</td>\n",
       "      <td>0.026830</td>\n",
       "      <td>0.027768</td>\n",
       "      <td>0.039331</td>\n",
       "      <td>0.042821</td>\n",
       "      <td>0.034966</td>\n",
       "      <td>0.032897</td>\n",
       "      <td>0.030301</td>\n",
       "      <td>0.027557</td>\n",
       "      <td>0.025062</td>\n",
       "    </tr>\n",
       "    <tr>\n",
       "      <th>3</th>\n",
       "      <td>1</td>\n",
       "      <td>3</td>\n",
       "      <td>0.030301</td>\n",
       "      <td>0.028867</td>\n",
       "      <td>0.029020</td>\n",
       "      <td>0.030185</td>\n",
       "      <td>0.033868</td>\n",
       "      <td>0.043744</td>\n",
       "      <td>0.082592</td>\n",
       "      <td>0.072493</td>\n",
       "      <td>...</td>\n",
       "      <td>0.034021</td>\n",
       "      <td>0.034015</td>\n",
       "      <td>0.035502</td>\n",
       "      <td>0.050692</td>\n",
       "      <td>0.053295</td>\n",
       "      <td>0.043173</td>\n",
       "      <td>0.040563</td>\n",
       "      <td>0.037334</td>\n",
       "      <td>0.035198</td>\n",
       "      <td>0.032703</td>\n",
       "    </tr>\n",
       "    <tr>\n",
       "      <th>4</th>\n",
       "      <td>1</td>\n",
       "      <td>4</td>\n",
       "      <td>0.033321</td>\n",
       "      <td>0.031160</td>\n",
       "      <td>0.031259</td>\n",
       "      <td>0.032204</td>\n",
       "      <td>0.035004</td>\n",
       "      <td>0.041056</td>\n",
       "      <td>0.066872</td>\n",
       "      <td>0.059066</td>\n",
       "      <td>...</td>\n",
       "      <td>0.035653</td>\n",
       "      <td>0.035114</td>\n",
       "      <td>0.036828</td>\n",
       "      <td>0.054310</td>\n",
       "      <td>0.055220</td>\n",
       "      <td>0.045534</td>\n",
       "      <td>0.042341</td>\n",
       "      <td>0.040695</td>\n",
       "      <td>0.036817</td>\n",
       "      <td>0.034697</td>\n",
       "    </tr>\n",
       "  </tbody>\n",
       "</table>\n",
       "<p>5 rows × 26 columns</p>\n",
       "</div>"
      ],
      "text/plain": [
       "   month  dayofweek        X1        X2        X3        X4        X5  \\\n",
       "0      1          0  0.031722  0.030484  0.030350  0.031295  0.034005   \n",
       "1      1          1  0.026330  0.025004  0.025110  0.026489  0.030282   \n",
       "2      1          2  0.023784  0.022953  0.023073  0.024100  0.028680   \n",
       "3      1          3  0.030301  0.028867  0.029020  0.030185  0.033868   \n",
       "4      1          4  0.033321  0.031160  0.031259  0.032204  0.035004   \n",
       "\n",
       "         X6        X7        X8    ...          X15       X16       X17  \\\n",
       "0  0.038473  0.063890  0.058083    ...     0.036612  0.035847  0.037385   \n",
       "1  0.036408  0.065749  0.062837    ...     0.035015  0.035243  0.037602   \n",
       "2  0.044134  0.144222  0.145185    ...     0.027232  0.026830  0.027768   \n",
       "3  0.043744  0.082592  0.072493    ...     0.034021  0.034015  0.035502   \n",
       "4  0.041056  0.066872  0.059066    ...     0.035653  0.035114  0.036828   \n",
       "\n",
       "        X18       X19       X20       X21       X22       X23       X24  \n",
       "0  0.054839  0.058074  0.046716  0.043663  0.040849  0.037417  0.033969  \n",
       "1  0.061643  0.068978  0.051856  0.045876  0.041800  0.036998  0.034059  \n",
       "2  0.039331  0.042821  0.034966  0.032897  0.030301  0.027557  0.025062  \n",
       "3  0.050692  0.053295  0.043173  0.040563  0.037334  0.035198  0.032703  \n",
       "4  0.054310  0.055220  0.045534  0.042341  0.040695  0.036817  0.034697  \n",
       "\n",
       "[5 rows x 26 columns]"
      ]
     },
     "execution_count": 371,
     "metadata": {},
     "output_type": "execute_result"
    }
   ],
   "source": [
    "tmp = pd.read_csv(SUBDIR + 'spot_HB_BUSAVG.csv')\n",
    "tmp['index'] = pd.to_datetime(tmp['Date'])\n",
    "tmp = tmp.set_index('index')\n",
    "tmp = tmp.drop(['Variable', 'Date'], axis = 1)\n",
    "\n",
    "tmp = tmp.groupby([tmp.index.month, tmp.index.dayofweek]).mean()\n",
    "\n",
    "# normalize\n",
    "tmp.loc[:, 'X1':'X24'] = tmp.loc[:, 'X1':'X24'].div(tmp.sum(axis = 1), axis = 0)\n",
    "\n",
    "tmp = tmp.reset_index(level = 1)\n",
    "tmp = tmp.rename(columns = {'index':'dayofweek'})\n",
    "tmp = tmp.reset_index(level = 0)\n",
    "tmp = tmp.rename(columns = {'index':'month'})\n",
    "\n",
    "tmp.head()"
   ]
  },
  {
   "cell_type": "code",
   "execution_count": 373,
   "metadata": {},
   "outputs": [],
   "source": [
    "variables = df_price['SettlementPoint'].unique().tolist()\n",
    "\n",
    "for variable in variables:\n",
    "    CSV_NAME = 'spot_' + variable + '.csv'\n",
    "    tmp = pd.read_csv(SUBDIR + CSV_NAME)\n",
    "    tmp['index'] = pd.to_datetime(tmp['Date'])\n",
    "    tmp = tmp.set_index('index')\n",
    "    tmp = tmp.drop(['Variable', 'Date'], axis = 1)\n",
    "\n",
    "    tmp = tmp.groupby([tmp.index.month, tmp.index.dayofweek]).mean()\n",
    "\n",
    "    # normalize\n",
    "    tmp.loc[:, 'X1':'X24'] = tmp.loc[:, 'X1':'X24'].div(tmp.sum(axis = 1), axis = 0)\n",
    "    \n",
    "    # organize columns\n",
    "    tmp = tmp.reset_index(level = 1)\n",
    "    tmp = tmp.rename(columns = {'index':'dayofweek'})\n",
    "    tmp = tmp.reset_index(level = 0)\n",
    "    tmp = tmp.rename(columns = {'index':'month'})\n",
    "\n",
    "    # make csv\n",
    "    tmp.to_csv(SUBDIR_02 + 'profile_' + variable + '.csv', index = False)"
   ]
  },
  {
   "cell_type": "markdown",
   "metadata": {},
   "source": [
    "## Bonus - Open-Ended Analysis"
   ]
  },
  {
   "cell_type": "code",
   "execution_count": 381,
   "metadata": {},
   "outputs": [
    {
     "data": {
      "image/png": "[encoded data removed]",
      "text/plain": [
       "<Figure size 432x288 with 1 Axes>"
      ]
     },
     "metadata": {
      "needs_background": "light"
     },
     "output_type": "display_data"
    }
   ],
   "source": [
    "tmp = df_price.copy()\n",
    "tmp = tmp.loc[tmp['SettlementPoint'] == 'HB_WEST']\n",
    "\n",
    "plt.plot(tmp['Price'])\n",
    "plt.xticks(rotation = 45)\n",
    "plt.ylabel('Price')\n",
    "plt.title('HB_WEST price')\n",
    "plt.show()"
   ]
  },
  {
   "cell_type": "code",
   "execution_count": 397,
   "metadata": {},
   "outputs": [
    {
     "data": {
      "image/png": "[encoded data removed]",
      "text/plain": [
       "<Figure size 432x288 with 2 Axes>"
      ]
     },
     "metadata": {
      "needs_background": "light"
     },
     "output_type": "display_data"
    }
   ],
   "source": [
    "tmp = df_price.copy()\n",
    "tmp = tmp.drop(['Date', 'datetime', 'year', 'month'], axis = 1)\n",
    "tmp = tmp.reset_index()\n",
    "tmp = tmp.set_index(['index', 'SettlementPoint'])\n",
    "tmp = tmp.unstack(level = 1)\n",
    "tmp.columns = tmp.columns.get_level_values(1)\n",
    "\n",
    "tmp = tmp.drop('HB_PAN', axis = 1)\n",
    "\n",
    "corr = tmp.corr()\n",
    "\n",
    "sns.heatmap(corr)\n",
    "plt.show()"
   ]
  },
  {
   "cell_type": "markdown",
   "metadata": {},
   "source": [
    "We have many settlement point, but they are extremely correlated."
   ]
  },
  {
   "cell_type": "code",
   "execution_count": 401,
   "metadata": {},
   "outputs": [
    {
     "data": {
      "image/png": "[encoded data removed]",
      "text/plain": [
       "<Figure size 432x288 with 1 Axes>"
      ]
     },
     "metadata": {
      "needs_background": "light"
     },
     "output_type": "display_data"
    }
   ],
   "source": [
    "plt.scatter(tmp['HB_NORTH'], tmp['HB_SOUTH'])\n",
    "plt.xlabel('HB_NORTH price')\n",
    "plt.ylabel('HB_SOUTH price')\n",
    "plt.title('North and South hub price relationship')\n",
    "plt.show()"
   ]
  },
  {
   "cell_type": "code",
   "execution_count": 413,
   "metadata": {},
   "outputs": [
    {
     "data": {
      "image/png": "[encoded data removed]",
      "text/plain": [
       "<Figure size 432x288 with 1 Axes>"
      ]
     },
     "metadata": {
      "needs_background": "light"
     },
     "output_type": "display_data"
    }
   ],
   "source": [
    "tmp_2 = tmp[['HB_NORTH', 'HB_SOUTH']]\n",
    "tmp_2 = tmp_2.rolling(24).corr()\n",
    "tmp_2 = tmp_2.reset_index()\n",
    "tmp_2 = tmp_2.loc[tmp_2['SettlementPoint'] == 'HB_SOUTH']\n",
    "tmp_2 = tmp_2.dropna()\n",
    "\n",
    "plt.plot(tmp_2['HB_NORTH'])\n",
    "plt.title('Rolling correlation between North and South hubs')\n",
    "plt.show()"
   ]
  },
  {
   "cell_type": "markdown",
   "metadata": {},
   "source": [
    "So, when you look at the correlation matrix, all the settlement points are highly correlated, so looks the same, but by looking at the rolling correlation between settlement points, maybe we can find out the time when the correlation breaks up. I'm not sure how I can use this result to business strategy now, but this is something I wanna go deeper now for research as an interesting characteristics of prices."
   ]
  }
 ],
 "metadata": {
  "kernelspec": {
   "display_name": "Python 3",
   "language": "python",
   "name": "python3"
  },
  "language_info": {
   "codemirror_mode": {
    "name": "ipython",
    "version": 3
   },
   "file_extension": ".py",
   "mimetype": "text/x-python",
   "name": "python",
   "nbconvert_exporter": "python",
   "pygments_lexer": "ipython3",
   "version": "3.7.1"
  }
 },
 "nbformat": 4,
 "nbformat_minor": 2
}
